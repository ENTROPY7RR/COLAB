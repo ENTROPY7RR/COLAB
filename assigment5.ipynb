{
  "nbformat": 4,
  "nbformat_minor": 0,
  "metadata": {
    "colab": {
      "name": "Untitled14.ipynb",
      "provenance": [],
      "authorship_tag": "ABX9TyOa6SiU+bMLhpyyU4trmB+/",
      "include_colab_link": true
    },
    "kernelspec": {
      "name": "python3",
      "display_name": "Python 3"
    },
    "language_info": {
      "name": "python"
    }
  },
  "cells": [
    {
      "cell_type": "markdown",
      "metadata": {
        "id": "view-in-github",
        "colab_type": "text"
      },
      "source": [
        "<a href=\"https://colab.research.google.com/github/ENTROPY7RR/COLAB/blob/main/Untitled14.ipynb\" target=\"_parent\"><img src=\"https://colab.research.google.com/assets/colab-badge.svg\" alt=\"Open In Colab\"/></a>"
      ]
    },
    {
      "cell_type": "markdown",
      "metadata": {
        "id": "iapimySYcK33"
      },
      "source": [
        "Task : Create a list consisting of Fibonacci numbers from 1 to 55 using control flow statements.\n",
        "\n"
      ]
    },
    {
      "cell_type": "code",
      "metadata": {
        "colab": {
          "base_uri": "https://localhost:8080/"
        },
        "id": "IB166ovEcLMQ",
        "outputId": "e3a9e8ad-d84e-426f-93a5-239451b1070b"
      },
      "source": [
        "def fibo(startnum,endnum):\n",
        "    fibonacci_list = []\n",
        "    a = 0\n",
        "    b = 1\n",
        "    if endnum == 0 or endnum == 1:\n",
        "        print(endnum)\n",
        "    else:        \n",
        "        fibonacci_list.append(b)\n",
        "        while b < endnum:\n",
        "            temp = a + b\n",
        "            fibonacci_list.append(temp)\n",
        "            a,b = b,temp\n",
        "           \n",
        "    print(fibonacci_list)\n",
        "\n",
        "startnum = int(input(\"Enter starting number: \"))\n",
        "endnum = int(input(\"Enter ending number: \"))\n",
        "\n",
        "fibonacci_list = fibo(startnum,endnum)"
      ],
      "execution_count": 9,
      "outputs": [
        {
          "output_type": "stream",
          "text": [
            "Enter starting number: 1\n",
            "Enter ending number: 15\n",
            "[1, 1, 2, 3, 5, 8, 13, 21]\n"
          ],
          "name": "stdout"
        }
      ]
    }
  ]
}
